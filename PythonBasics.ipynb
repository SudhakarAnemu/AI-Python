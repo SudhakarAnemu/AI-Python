{
  "nbformat": 4,
  "nbformat_minor": 0,
  "metadata": {
    "kernelspec": {
      "name": "python3",
      "display_name": "Python 3"
    },
    "language_info": {
      "codemirror_mode": {
        "name": "ipython",
        "version": 3
      },
      "file_extension": ".py",
      "mimetype": "text/x-python",
      "name": "python",
      "nbconvert_exporter": "python",
      "pygments_lexer": "ipython3",
      "version": "3.6.0"
    },
    "colab": {
      "name": "PythonBasics_2-1531629120498.ipynb",
      "provenance": []
    },
    "accelerator": "GPU"
  },
  "cells": [
    {
      "cell_type": "markdown",
      "metadata": {
        "id": "PURY_zN4Ze_5",
        "colab_type": "text"
      },
      "source": [
        "# <center>Python Basics<center/> \n",
        "<img height=\"60\" width=\"120\" src=\"https://www.python.org/static/img/python-logo-large.png?1414305901\"></img>"
      ]
    },
    {
      "cell_type": "markdown",
      "metadata": {
        "id": "V3j5RSL0Ze_8",
        "colab_type": "text"
      },
      "source": [
        "# Table of contents\n",
        "<br/>\n",
        "<a href = \"#6.-Variables\">6. Variables</a><br/>\n",
        "<a href = \"#7.-Data-Types\">7. Data Types</a><br/>\n",
        "<a href = \"#8.-Conversion-between-Datatypes\">8. Conversion between Datatypes</a>"
      ]
    },
    {
      "cell_type": "markdown",
      "metadata": {
        "id": "lpoZeKQBZe_9",
        "colab_type": "text"
      },
      "source": [
        "# 6. Variables"
      ]
    },
    {
      "cell_type": "markdown",
      "metadata": {
        "id": "EEyPhpeaZe__",
        "colab_type": "text"
      },
      "source": [
        "A variable is an alias given to a location in memory that is used to store some data (value).\n",
        "\n",
        "Each data point stored in the memory is given unique name to differentiate between different memory locations (and thus data points). <br/><b>The rules for writing a variable name is same as the rules for writing identifiers in Python.</b>\n",
        "\n",
        "We don't need to declare a variable before using it. In Python, we simply assign a value to a variable and it will exist. We don't even have to declare the <b>type</b> of the variable. This is handled internally according to the type of value we assign to the variable.\n",
        "<br/>\n",
        "<br/>"
      ]
    },
    {
      "cell_type": "markdown",
      "metadata": {
        "id": "SV9-ioQ5ZfAA",
        "colab_type": "text"
      },
      "source": [
        "### Variable assignements\n",
        "We use the assignment operator (=) to assign values to a variable"
      ]
    },
    {
      "cell_type": "code",
      "metadata": {
        "id": "4o-WnRYmZfAB",
        "colab_type": "code",
        "outputId": "bbcf0e61-248c-4d35-a5b8-57984a5f476e",
        "colab": {
          "base_uri": "https://localhost:8080/",
          "height": 34
        }
      },
      "source": [
        "intergerNumber = 4\n",
        "decimalNumber = 22.2\n",
        "stringVariable = \"StringValue\"\n",
        "print(intergerNumber, decimalNumber, stringVariable)"
      ],
      "execution_count": 0,
      "outputs": [
        {
          "output_type": "stream",
          "text": [
            "4 22.2 StringValue\n"
          ],
          "name": "stdout"
        }
      ]
    },
    {
      "cell_type": "code",
      "metadata": {
        "id": "moYbsPMMc7XK",
        "colab_type": "code",
        "outputId": "9974cfdc-c259-4fda-9fc1-5fd913e40070",
        "colab": {
          "base_uri": "https://localhost:8080/",
          "height": 67
        }
      },
      "source": [
        "inttt = 4\n",
        "deci = 4.4\n",
        "mystr = \"jssudha\"\n",
        "print(\"Types : \", type(inttt))\n",
        "print(\"Types : \", type(deci))\n",
        "print(\"mystr : \", type(mystr))"
      ],
      "execution_count": 0,
      "outputs": [
        {
          "output_type": "stream",
          "text": [
            "Types :  <class 'int'>\n",
            "Types :  <class 'float'>\n",
            "mystr :  <class 'str'>\n"
          ],
          "name": "stdout"
        }
      ]
    },
    {
      "cell_type": "markdown",
      "metadata": {
        "id": "oTT3Q49cZfAI",
        "colab_type": "text"
      },
      "source": [
        "### Multiple assignements\n",
        "Use comma to seperate the variables and their corresponding values"
      ]
    },
    {
      "cell_type": "code",
      "metadata": {
        "id": "foOh73nIZfAJ",
        "colab_type": "code",
        "outputId": "e62d2368-5acb-40bf-a3fe-5e372614d1ef",
        "colab": {}
      },
      "source": [
        "intergerNumber, decimalNumber, stringVariable = 4, 22.2, \"StringValue\"\n",
        "print(intergerNumber, decimalNumber, stringVariable)"
      ],
      "execution_count": 0,
      "outputs": [
        {
          "output_type": "stream",
          "text": [
            "4 22.2 StringValue\n"
          ],
          "name": "stdout"
        }
      ]
    },
    {
      "cell_type": "markdown",
      "metadata": {
        "id": "uWgOlsiVZfAN",
        "colab_type": "text"
      },
      "source": [
        "To initialize multiple variables with same value use 1 assignment"
      ]
    },
    {
      "cell_type": "code",
      "metadata": {
        "id": "VrOfmkvJZfAO",
        "colab_type": "code",
        "outputId": "5ac5e6a3-b3b6-463d-af14-79c2cef5f4ad",
        "colab": {}
      },
      "source": [
        "variable1=variable2=variable3 = \" All variable assigned same value \"\n",
        "print(variable1,variable2,variable3)"
      ],
      "execution_count": 0,
      "outputs": [
        {
          "output_type": "stream",
          "text": [
            " All variable assigned same value   All variable assigned same value   All variable assigned same value \n"
          ],
          "name": "stdout"
        }
      ]
    },
    {
      "cell_type": "code",
      "metadata": {
        "id": "B1oy8IHIdnv-",
        "colab_type": "code",
        "outputId": "0a9636f0-98cd-4a7e-b311-3336d5572eda",
        "colab": {
          "base_uri": "https://localhost:8080/",
          "height": 50
        }
      },
      "source": [
        "a=b=c=\"hello\"\n",
        "print(\"type : \", type(a))\n",
        "print(\"Address of b : \", id(b))"
      ],
      "execution_count": 0,
      "outputs": [
        {
          "output_type": "stream",
          "text": [
            "type :  <class 'str'>\n",
            "Address of b :  140716980366952\n"
          ],
          "name": "stdout"
        }
      ]
    },
    {
      "cell_type": "markdown",
      "metadata": {
        "collapsed": true,
        "id": "xRdE9UxvZfAS",
        "colab_type": "text"
      },
      "source": [
        "### Storage Locations"
      ]
    },
    {
      "cell_type": "code",
      "metadata": {
        "id": "9CQleC1QZfAT",
        "colab_type": "code",
        "outputId": "9846a99e-8183-4c66-fa74-da987ef4ef6c",
        "colab": {}
      },
      "source": [
        "print(id(intergerNumber))               #print address of variable: 'intergerNumber'"
      ],
      "execution_count": 0,
      "outputs": [
        {
          "output_type": "stream",
          "text": [
            "1848031792\n"
          ],
          "name": "stdout"
        }
      ]
    },
    {
      "cell_type": "code",
      "metadata": {
        "id": "7Vstz6AjZfAW",
        "colab_type": "code",
        "outputId": "e0a6d9a4-8e76-4bc2-a0a1-db0ae7844bdf",
        "colab": {}
      },
      "source": [
        "print(id(decimalNumber))               #print address of variable: 'decimalNumber'"
      ],
      "execution_count": 0,
      "outputs": [
        {
          "output_type": "stream",
          "text": [
            "2582395820504\n"
          ],
          "name": "stdout"
        }
      ]
    },
    {
      "cell_type": "markdown",
      "metadata": {
        "id": "f_QF_QVaZfAa",
        "colab_type": "text"
      },
      "source": [
        "<b>interger1</b> and <b>interger2</b> points to same memory location in the below example"
      ]
    },
    {
      "cell_type": "code",
      "metadata": {
        "id": "7kim6979ZfAa",
        "colab_type": "code",
        "outputId": "bdc2098c-7c02-4a29-90fd-d75990e5b88c",
        "colab": {
          "base_uri": "https://localhost:8080/",
          "height": 50
        }
      },
      "source": [
        "interger1 = 10\n",
        "interger2 = 10\n",
        "\n",
        "print(id(interger1))   \n",
        "print(id(interger2))   "
      ],
      "execution_count": 0,
      "outputs": [
        {
          "output_type": "stream",
          "text": [
            "10914784\n",
            "10914784\n"
          ],
          "name": "stdout"
        }
      ]
    },
    {
      "cell_type": "code",
      "metadata": {
        "id": "2Roi0FQRd8zv",
        "colab_type": "code",
        "outputId": "a1652a5e-d8bf-422a-f2de-1928b3fee13b",
        "colab": {
          "base_uri": "https://localhost:8080/",
          "height": 34
        }
      },
      "source": [
        "a = b = 10\n",
        "print(id(a), \" \", id(b))"
      ],
      "execution_count": 0,
      "outputs": [
        {
          "output_type": "stream",
          "text": [
            "10914784   10914784\n"
          ],
          "name": "stdout"
        }
      ]
    },
    {
      "cell_type": "markdown",
      "metadata": {
        "collapsed": true,
        "id": "CD97PwoNZfAd",
        "colab_type": "text"
      },
      "source": [
        "# 7. Data Types"
      ]
    },
    {
      "cell_type": "markdown",
      "metadata": {
        "id": "afiwWpDHZfAe",
        "colab_type": "text"
      },
      "source": [
        "Every value in Python has a datatype. Since everything is an object in Python programming, data types are actually classes and variables are instance (object) of these classes.\n",
        "<br/><br/>\n",
        "Below are few of the commonly used data types<br/>"
      ]
    },
    {
      "cell_type": "markdown",
      "metadata": {
        "id": "GOZQTk5pZfAe",
        "colab_type": "text"
      },
      "source": [
        "### Python Numbers"
      ]
    },
    {
      "cell_type": "markdown",
      "metadata": {
        "id": "q_iTww_oZfAf",
        "colab_type": "text"
      },
      "source": [
        "<b>Integers, floating point numbers and complex numbers</b>\n",
        "falls under Python numbers category. They are defined as int, float and complex class in Python.\n",
        "\n",
        "We can use the <b>type()</b> function to know which class a variable or a value belongs to <br/> and the <b>isinstance()</b> function to check if an object belongs to a particular class."
      ]
    },
    {
      "cell_type": "code",
      "metadata": {
        "id": "s_vsOtAhfAYp",
        "colab_type": "code",
        "outputId": "6a7da6f0-c3ef-4fdc-9ceb-58f0103ad70c",
        "colab": {
          "base_uri": "https://localhost:8080/",
          "height": 67
        }
      },
      "source": [
        "a=5\n",
        "print(\"a : \",a, \" type of the a : \", type(a))\n",
        "print(\"is a int : \", isinstance(a,int))\n",
        "print(\"is a float : \", isinstance(a,float))"
      ],
      "execution_count": 0,
      "outputs": [
        {
          "output_type": "stream",
          "text": [
            "a :  5  type of the a :  <class 'int'>\n",
            "is a int :  True\n",
            "is a float :  False\n"
          ],
          "name": "stdout"
        }
      ]
    },
    {
      "cell_type": "code",
      "metadata": {
        "id": "td3-8X7yZfAf",
        "colab_type": "code",
        "outputId": "a8b46c3e-cd4d-4a93-e065-af1e923f38a2",
        "colab": {}
      },
      "source": [
        "data1 = 12                               # integer data type\n",
        "print(data1, \" is of type\", type(data1))"
      ],
      "execution_count": 0,
      "outputs": [
        {
          "output_type": "stream",
          "text": [
            "5  is of type <class 'int'>\n"
          ],
          "name": "stdout"
        }
      ]
    },
    {
      "cell_type": "code",
      "metadata": {
        "id": "cdFEk86lZfAi",
        "colab_type": "code",
        "outputId": "fb74d80f-1442-4bdc-fda6-daf685209cb5",
        "colab": {
          "base_uri": "https://localhost:8080/",
          "height": 50
        }
      },
      "source": [
        "data2 = 12.5                            # float data type\n",
        "print(data2, \" is of type\", type(data2))\n",
        "data2 = 8999999999990322.4569999999973j\n",
        "print(\"data3 : \", data2, \"type is : \", type(data2))"
      ],
      "execution_count": 0,
      "outputs": [
        {
          "output_type": "stream",
          "text": [
            "12.5  is of type <class 'float'>\n",
            "data3 :  8999999999990322j type is :  <class 'complex'>\n"
          ],
          "name": "stdout"
        }
      ]
    },
    {
      "cell_type": "code",
      "metadata": {
        "id": "-c2ESKEfZfAl",
        "colab_type": "code",
        "outputId": "165961c4-7c5e-4cef-80f4-d0b444f8ecfb",
        "colab": {
          "base_uri": "https://localhost:8080/",
          "height": 34
        }
      },
      "source": [
        "data3 = 100 + 20j                          #data type is changed to complex number\n",
        "print(data3, \" is complex number?\", isinstance(data3, complex))"
      ],
      "execution_count": 0,
      "outputs": [
        {
          "output_type": "stream",
          "text": [
            "(100+20j)  is complex number? True\n"
          ],
          "name": "stdout"
        }
      ]
    },
    {
      "cell_type": "markdown",
      "metadata": {
        "id": "o679idpgZfAq",
        "colab_type": "text"
      },
      "source": [
        "### Boolean"
      ]
    },
    {
      "cell_type": "markdown",
      "metadata": {
        "id": "KhYDM1KSZfAr",
        "colab_type": "text"
      },
      "source": [
        "Boolean represents True or False values"
      ]
    },
    {
      "cell_type": "code",
      "metadata": {
        "id": "fMYWTlJqZfAr",
        "colab_type": "code",
        "outputId": "a29c0670-6190-4fe4-9bbd-98d23f07350f",
        "colab": {}
      },
      "source": [
        "booleanVariable = True                          # 'booleanVariable' is a boolean type & True is a keyword\n",
        "print(type(booleanVariable))"
      ],
      "execution_count": 0,
      "outputs": [
        {
          "output_type": "stream",
          "text": [
            "<class 'bool'>\n"
          ],
          "name": "stdout"
        }
      ]
    },
    {
      "cell_type": "code",
      "metadata": {
        "id": "rnJkimO_mNty",
        "colab_type": "code",
        "outputId": "ce57417d-e48d-411a-c01a-7560ee4a37a1",
        "colab": {
          "base_uri": "https://localhost:8080/",
          "height": 67
        }
      },
      "source": [
        "bbb = False\n",
        "print(\"type of the bbb : \", type(bbb))\n",
        "print(\"validate whether it is Int : \", isinstance(bbb, int))\n",
        "print(\"validate whether it is bool : \", isinstance(bbb, bool))"
      ],
      "execution_count": 0,
      "outputs": [
        {
          "output_type": "stream",
          "text": [
            "type of the bbb :  <class 'bool'>\n",
            "validate whether it is Int :  True\n",
            "validate whether it is bool :  True\n"
          ],
          "name": "stdout"
        }
      ]
    },
    {
      "cell_type": "markdown",
      "metadata": {
        "id": "QzdGSJL8ZfAu",
        "colab_type": "text"
      },
      "source": [
        "### Python Strings"
      ]
    },
    {
      "cell_type": "markdown",
      "metadata": {
        "id": "zYajz5WZZfAv",
        "colab_type": "text"
      },
      "source": [
        "String is sequence of Unicode characters. We can use single quotes or double quotes to represent strings. <br/>\n",
        "Multi-line strings can be denoted using triple quotes(single/double), <b>''' or \"\"\". </b><br/>\n",
        "\n",
        "A string in Python consists of a series or <u>sequence of characters</u> - <b>letters, numbers, and special characters.</b>\n",
        "\n",
        "Strings can be indexed - often synonymously called subscripted as well.\n",
        "\n",
        "The first character of a string has the index 0."
      ]
    },
    {
      "cell_type": "code",
      "metadata": {
        "id": "KqyYZYclZfAw",
        "colab_type": "code",
        "outputId": "794abbaf-a863-47d7-a470-7b960698ac9a",
        "colab": {}
      },
      "source": [
        "stringVariable = \"This is a string variable\"\n",
        "print('stringVariable is : ',stringVariable)\n",
        "print('First character in stringVariable is : ',stringVariable[0])"
      ],
      "execution_count": 0,
      "outputs": [
        {
          "output_type": "stream",
          "text": [
            "stringVariable is :  This is a string variable\n",
            "First character in stringVariable is :  T\n"
          ],
          "name": "stdout"
        }
      ]
    },
    {
      "cell_type": "code",
      "metadata": {
        "id": "7GgVZUngZfAz",
        "colab_type": "code",
        "outputId": "bcae6646-e721-4152-9aed-8f1231653469",
        "colab": {}
      },
      "source": [
        "# Slicing of String variable\n",
        "print(stringVariable[0:7])\n",
        "print(stringVariable[:7])\n",
        "print(stringVariable[5:])"
      ],
      "execution_count": 0,
      "outputs": [
        {
          "output_type": "stream",
          "text": [
            "This is\n",
            "This is\n",
            "is a string variable\n"
          ],
          "name": "stdout"
        }
      ]
    },
    {
      "cell_type": "markdown",
      "metadata": {
        "id": "10OVzRHlZfA3",
        "colab_type": "text"
      },
      "source": [
        "### Python List"
      ]
    },
    {
      "cell_type": "markdown",
      "metadata": {
        "id": "Sr718nX0ZfA4",
        "colab_type": "text"
      },
      "source": [
        "List is an <u>ordered sequence</u> of items. It is one of the most used datatype in Python and is very flexible. \n",
        "\n",
        "All the items in a list do not need to be of the same type.\n",
        "\n",
        "Declaring a list is pretty straight forward. Items separated by commas are enclosed within square brackets <b>'[ ]'</b>."
      ]
    },
    {
      "cell_type": "code",
      "metadata": {
        "id": "HMD1z2pxZfA4",
        "colab_type": "code",
        "outputId": "9370f4fc-ae80-4b04-a3af-5231302f1356",
        "colab": {}
      },
      "source": [
        "myList = [1, 2.2, \"ThirdElement\",12,24,\"More values\"]\n",
        "print(myList)           "
      ],
      "execution_count": 0,
      "outputs": [
        {
          "output_type": "stream",
          "text": [
            "[1, 2.2, 'ThirdElement', 12, 24, 'More values']\n"
          ],
          "name": "stdout"
        }
      ]
    },
    {
      "cell_type": "code",
      "metadata": {
        "id": "Om-jyZnPZfA8",
        "colab_type": "code",
        "outputId": "626d54e1-7358-45dc-df23-4d8f5202a005",
        "colab": {}
      },
      "source": [
        "print(myList[2])                     # Print an element based on its index. Index starts from 0"
      ],
      "execution_count": 0,
      "outputs": [
        {
          "output_type": "stream",
          "text": [
            "ThirdElement\n"
          ],
          "name": "stdout"
        }
      ]
    },
    {
      "cell_type": "markdown",
      "metadata": {
        "id": "HrlEQEUSZfA_",
        "colab_type": "text"
      },
      "source": [
        "Lists are mutable, which means, value of elements of a list can be changed."
      ]
    },
    {
      "cell_type": "code",
      "metadata": {
        "id": "4GvsGVmDZfA_",
        "colab_type": "code",
        "outputId": "45a8d425-b109-4323-8b05-00395828319f",
        "colab": {}
      },
      "source": [
        "myList[2] = \"ElementThree\"\n",
        "print(myList) "
      ],
      "execution_count": 0,
      "outputs": [
        {
          "output_type": "stream",
          "text": [
            "[1, 2.2, 'ElementThree', 12, 24, 'More values']\n"
          ],
          "name": "stdout"
        }
      ]
    },
    {
      "cell_type": "code",
      "metadata": {
        "id": "bVhn9ZSLZfBD",
        "colab_type": "code",
        "outputId": "6fc324c7-7d34-40e2-c17e-a52bc6eb0345",
        "colab": {}
      },
      "source": [
        "myList.remove(2.2)                             # Remove item from a particular index\n",
        "print(myList)"
      ],
      "execution_count": 0,
      "outputs": [
        {
          "output_type": "stream",
          "text": [
            "[1, 'ElementThree', 12, 24, 'More values']\n"
          ],
          "name": "stdout"
        }
      ]
    },
    {
      "cell_type": "code",
      "metadata": {
        "id": "jP9tAlTqZfBF",
        "colab_type": "code",
        "outputId": "0b7be4d6-742b-400e-8b66-c81dc17e4cf8",
        "colab": {}
      },
      "source": [
        "myList.pop(2)                                 # Remove item from a particular index\n",
        "print(myList)"
      ],
      "execution_count": 0,
      "outputs": [
        {
          "output_type": "stream",
          "text": [
            "[1, 'ElementThree', 24, 'More values']\n"
          ],
          "name": "stdout"
        }
      ]
    },
    {
      "cell_type": "code",
      "metadata": {
        "id": "tV34JAnzZfBI",
        "colab_type": "code",
        "outputId": "505c6138-f27f-4f48-8f95-cc93c26df1d5",
        "colab": {}
      },
      "source": [
        "myList.append(2.2)                            # Add item at the last index\n",
        "print(myList)"
      ],
      "execution_count": 0,
      "outputs": [
        {
          "output_type": "stream",
          "text": [
            "[1, 'ElementThree', 24, 'More values', 2.2]\n"
          ],
          "name": "stdout"
        }
      ]
    },
    {
      "cell_type": "markdown",
      "metadata": {
        "id": "6Yko-BwqZfBL",
        "colab_type": "text"
      },
      "source": [
        "### Python Tuple"
      ]
    },
    {
      "cell_type": "markdown",
      "metadata": {
        "id": "V9oOJG5hZfBL",
        "colab_type": "text"
      },
      "source": [
        "Tuple is an <u>ordered sequence</u> of items same as list. <br/>\n",
        "The only difference is that tuples are <u>immutable</u>. <b>Tuples once created cannot be modified</b>.\n",
        "\n",
        "Tuples are used to write-protect data and are usually faster than list as it cannot change dynamically.\n",
        "\n",
        "It is defined within parentheses <b>()</b> where items are separated by commas."
      ]
    },
    {
      "cell_type": "code",
      "metadata": {
        "id": "RJTXDN19ZfBM",
        "colab_type": "code",
        "colab": {}
      },
      "source": [
        "myTuple = (10,20,30,\"Text\")"
      ],
      "execution_count": 0,
      "outputs": []
    },
    {
      "cell_type": "code",
      "metadata": {
        "id": "7kFAPUGnZfBO",
        "colab_type": "code",
        "outputId": "ec319973-ffd5-4f40-cdf3-8357dc5e322d",
        "colab": {}
      },
      "source": [
        "print(myTuple[2])                 # Read elements by their corresponding index values"
      ],
      "execution_count": 0,
      "outputs": [
        {
          "output_type": "stream",
          "text": [
            "30\n"
          ],
          "name": "stdout"
        }
      ]
    },
    {
      "cell_type": "code",
      "metadata": {
        "id": "2-FoKWWiZfBR",
        "colab_type": "code",
        "outputId": "d8697ca0-4a9b-4b06-9f91-4d390845c958",
        "colab": {}
      },
      "source": [
        "myTuple[2] = 120"
      ],
      "execution_count": 0,
      "outputs": [
        {
          "output_type": "error",
          "ename": "TypeError",
          "evalue": "'tuple' object does not support item assignment",
          "traceback": [
            "\u001b[0;31m---------------------------------------------------------------------------\u001b[0m",
            "\u001b[0;31mTypeError\u001b[0m                                 Traceback (most recent call last)",
            "\u001b[0;32m<ipython-input-44-9dfd6922a533>\u001b[0m in \u001b[0;36m<module>\u001b[0;34m()\u001b[0m\n\u001b[0;32m----> 1\u001b[0;31m \u001b[0mmyTuple\u001b[0m\u001b[1;33m[\u001b[0m\u001b[1;36m2\u001b[0m\u001b[1;33m]\u001b[0m \u001b[1;33m=\u001b[0m \u001b[1;36m120\u001b[0m\u001b[1;33m\u001b[0m\u001b[0m\n\u001b[0m",
            "\u001b[0;31mTypeError\u001b[0m: 'tuple' object does not support item assignment"
          ]
        }
      ]
    },
    {
      "cell_type": "markdown",
      "metadata": {
        "id": "8XLV3R8WZfBU",
        "colab_type": "text"
      },
      "source": [
        "### Python Set"
      ]
    },
    {
      "cell_type": "markdown",
      "metadata": {
        "id": "uMHhAdgBZfBV",
        "colab_type": "text"
      },
      "source": [
        "Set is an <u>unordered collection</u> of unique items. <br/>\n",
        "Set is defined by values separated by comma inside curly braces <b>{ }</b>. <br/>"
      ]
    },
    {
      "cell_type": "code",
      "metadata": {
        "id": "9k4wq07NZfBV",
        "colab_type": "code",
        "outputId": "893cdd93-07bf-48e2-ec7a-8596251930fb",
        "colab": {}
      },
      "source": [
        "mySet = {10, 20, 30, 40, 50}\n",
        "print(mySet)"
      ],
      "execution_count": 0,
      "outputs": [
        {
          "output_type": "stream",
          "text": [
            "{40, 10, 50, 20, 30}\n"
          ],
          "name": "stdout"
        }
      ]
    },
    {
      "cell_type": "code",
      "metadata": {
        "id": "g1IhShxfZfBY",
        "colab_type": "code",
        "outputId": "356ff87a-222d-49ec-9588-9ff8252a0050",
        "colab": {}
      },
      "source": [
        "mySet = {10, 20, 20, 30, 30}       # Only unique values considered, duplicates removed automatically\n",
        "print(mySet)"
      ],
      "execution_count": 0,
      "outputs": [
        {
          "output_type": "stream",
          "text": [
            "{10, 20, 30}\n"
          ],
          "name": "stdout"
        }
      ]
    },
    {
      "cell_type": "code",
      "metadata": {
        "id": "o05VgvK6ZfBd",
        "colab_type": "code",
        "outputId": "7d12ba11-90ac-473c-8731-923db2562cf6",
        "colab": {}
      },
      "source": [
        "print(type(mySet))                 # Check the type of the variable"
      ],
      "execution_count": 0,
      "outputs": [
        {
          "output_type": "stream",
          "text": [
            "<class 'set'>\n"
          ],
          "name": "stdout"
        }
      ]
    },
    {
      "cell_type": "code",
      "metadata": {
        "id": "iOcsKbJLZfBg",
        "colab_type": "code",
        "outputId": "35522507-2e56-4309-b627-c1a3d7abf9d5",
        "colab": {}
      },
      "source": [
        "print(mySet[0])                    # Cannot print any particular element in a set because \n",
        "                                   # it's an unorder collections of items"
      ],
      "execution_count": 0,
      "outputs": [
        {
          "output_type": "error",
          "ename": "TypeError",
          "evalue": "'set' object does not support indexing",
          "traceback": [
            "\u001b[0;31m---------------------------------------------------------------------------\u001b[0m",
            "\u001b[0;31mTypeError\u001b[0m                                 Traceback (most recent call last)",
            "\u001b[0;32m<ipython-input-50-236ce4458037>\u001b[0m in \u001b[0;36m<module>\u001b[0;34m()\u001b[0m\n\u001b[0;32m----> 1\u001b[0;31m \u001b[0mprint\u001b[0m\u001b[1;33m(\u001b[0m\u001b[0mmySet\u001b[0m\u001b[1;33m[\u001b[0m\u001b[1;36m0\u001b[0m\u001b[1;33m]\u001b[0m\u001b[1;33m)\u001b[0m                    \u001b[1;31m# Cannot print any particular element in a set because\u001b[0m\u001b[1;33m\u001b[0m\u001b[0m\n\u001b[0m\u001b[1;32m      2\u001b[0m                                    \u001b[1;31m# it's an unorder collections of items\u001b[0m\u001b[1;33m\u001b[0m\u001b[1;33m\u001b[0m\u001b[0m\n",
            "\u001b[0;31mTypeError\u001b[0m: 'set' object does not support indexing"
          ]
        }
      ]
    },
    {
      "cell_type": "markdown",
      "metadata": {
        "id": "c97tQBwlZfBm",
        "colab_type": "text"
      },
      "source": [
        "### Python Dictionary"
      ]
    },
    {
      "cell_type": "markdown",
      "metadata": {
        "id": "Z0-wncj0ZfBn",
        "colab_type": "text"
      },
      "source": [
        "<b>Dictionary</b> is an <u>unordered collection</u> of <b>key-value</b> pairs.\n",
        "\n",
        "It is generally used when we have a huge amount of data.<br/> \n",
        "Dictionaries are optimized for retrieving data. <br/>\n",
        "We must know the <b>key</b> to retrieve the <b>value</b>.\n",
        "\n",
        "In Python, dictionaries are defined within curly braces <b>{}</b> <br/>\n",
        "with each item being a pair in the form <b>key:value</b>. <br/>\n",
        "<b>Key and value</b> can be of <u>any type</u>."
      ]
    },
    {
      "cell_type": "code",
      "metadata": {
        "id": "wH95W5I-ZfBo",
        "colab_type": "code",
        "outputId": "9e2607f0-f36f-4018-cf69-1a0281a4d598",
        "colab": {}
      },
      "source": [
        "myDictionary = {'key1': \"value1\", 'key2': \"value2\", 'key3': \"value3\",}\n",
        "print(myDictionary['key2'])"
      ],
      "execution_count": 0,
      "outputs": [
        {
          "output_type": "stream",
          "text": [
            "value2\n"
          ],
          "name": "stdout"
        }
      ]
    },
    {
      "cell_type": "markdown",
      "metadata": {
        "id": "ZNrjUKSJZfBr",
        "colab_type": "text"
      },
      "source": [
        "<b>Update</b> a value in the dictionary"
      ]
    },
    {
      "cell_type": "code",
      "metadata": {
        "id": "jO0CJReLZfBr",
        "colab_type": "code",
        "outputId": "fc2abf0c-cea6-45eb-abb1-7440df0cfbf8",
        "colab": {}
      },
      "source": [
        "myDictionary['key2'] = \"value2.2\"\n",
        "print(myDictionary)"
      ],
      "execution_count": 0,
      "outputs": [
        {
          "output_type": "stream",
          "text": [
            "{'key1': 'value1', 'key2': 'value2.2', 'key3': 'value3'}\n"
          ],
          "name": "stdout"
        }
      ]
    },
    {
      "cell_type": "markdown",
      "metadata": {
        "id": "7ui3cMNcZfBu",
        "colab_type": "text"
      },
      "source": [
        "<b>Add</b> a new key & value"
      ]
    },
    {
      "cell_type": "code",
      "metadata": {
        "id": "5758CVA-ZfBu",
        "colab_type": "code",
        "outputId": "904add95-0947-420c-a52a-702193a8f2de",
        "colab": {}
      },
      "source": [
        "myDictionary[\"key4\"] = \"value4\"\n",
        "print(myDictionary)"
      ],
      "execution_count": 0,
      "outputs": [
        {
          "output_type": "stream",
          "text": [
            "{'key1': 'value1', 'key2': 'value2.2', 'key3': 'value3', 'key4': 'value4'}\n"
          ],
          "name": "stdout"
        }
      ]
    },
    {
      "cell_type": "markdown",
      "metadata": {
        "id": "yPLc_nx_ZfBx",
        "colab_type": "text"
      },
      "source": [
        "<b>Delete</b> Dictionary Elements"
      ]
    },
    {
      "cell_type": "code",
      "metadata": {
        "id": "dLpA-PHWZfBx",
        "colab_type": "code",
        "outputId": "fb8fb1e0-0e37-4aea-a3e9-17211b8e3158",
        "colab": {}
      },
      "source": [
        "del myDictionary[\"key2\"]\n",
        "print(myDictionary)"
      ],
      "execution_count": 0,
      "outputs": [
        {
          "output_type": "stream",
          "text": [
            "{'key1': 'value1', 'key3': 'value3', 'key4': 'value4'}\n"
          ],
          "name": "stdout"
        }
      ]
    },
    {
      "cell_type": "markdown",
      "metadata": {
        "collapsed": true,
        "id": "v0U4iCeZZfB0",
        "colab_type": "text"
      },
      "source": [
        "# 8. Conversion between Datatypes"
      ]
    },
    {
      "cell_type": "markdown",
      "metadata": {
        "id": "LKMkTKSEZfB0",
        "colab_type": "text"
      },
      "source": [
        "To convert between different data types use different type conversion functions like <b>int(), float(), str()</b> etc."
      ]
    },
    {
      "cell_type": "code",
      "metadata": {
        "id": "NgqA0VclZfB2",
        "colab_type": "code",
        "outputId": "5e89924d-09c2-4ece-89db-7b700842c65a",
        "colab": {}
      },
      "source": [
        "int(5.5)"
      ],
      "execution_count": 0,
      "outputs": [
        {
          "output_type": "execute_result",
          "data": {
            "text/plain": [
              "5"
            ]
          },
          "metadata": {
            "tags": []
          },
          "execution_count": 74
        }
      ]
    },
    {
      "cell_type": "code",
      "metadata": {
        "id": "lnA5Ca5FZfB5",
        "colab_type": "code",
        "outputId": "4b1851a2-4646-45dc-e3fb-aebe22162198",
        "colab": {}
      },
      "source": [
        "float(5)"
      ],
      "execution_count": 0,
      "outputs": [
        {
          "output_type": "execute_result",
          "data": {
            "text/plain": [
              "5.0"
            ]
          },
          "metadata": {
            "tags": []
          },
          "execution_count": 75
        }
      ]
    },
    {
      "cell_type": "markdown",
      "metadata": {
        "id": "fpQ60Y2-ZfB8",
        "colab_type": "text"
      },
      "source": [
        "Conversion to and from string must contain compatible values."
      ]
    },
    {
      "cell_type": "code",
      "metadata": {
        "id": "jjvh2D_fZfB9",
        "colab_type": "code",
        "outputId": "dbc1cdd9-91d8-4e66-8b68-93bdeda82349",
        "colab": {}
      },
      "source": [
        "str(5)"
      ],
      "execution_count": 0,
      "outputs": [
        {
          "output_type": "execute_result",
          "data": {
            "text/plain": [
              "'5'"
            ]
          },
          "metadata": {
            "tags": []
          },
          "execution_count": 76
        }
      ]
    },
    {
      "cell_type": "code",
      "metadata": {
        "id": "ihcI53p8ZfB_",
        "colab_type": "code",
        "outputId": "32f31f5e-a956-410a-8c93-8daec3e2159f",
        "colab": {}
      },
      "source": [
        "str(5.5)"
      ],
      "execution_count": 0,
      "outputs": [
        {
          "output_type": "execute_result",
          "data": {
            "text/plain": [
              "'5.5'"
            ]
          },
          "metadata": {
            "tags": []
          },
          "execution_count": 77
        }
      ]
    },
    {
      "cell_type": "code",
      "metadata": {
        "id": "UicSh5aYZfCB",
        "colab_type": "code",
        "outputId": "be043409-dfbf-4b66-c94a-f7cca56a0f51",
        "colab": {}
      },
      "source": [
        "int('5')"
      ],
      "execution_count": 0,
      "outputs": [
        {
          "output_type": "execute_result",
          "data": {
            "text/plain": [
              "5"
            ]
          },
          "metadata": {
            "tags": []
          },
          "execution_count": 79
        }
      ]
    },
    {
      "cell_type": "code",
      "metadata": {
        "id": "o_6l0TGdZfCG",
        "colab_type": "code",
        "outputId": "a8cea51a-bf57-4263-a40f-e362a0065ab9",
        "colab": {}
      },
      "source": [
        "int('5.5')"
      ],
      "execution_count": 0,
      "outputs": [
        {
          "output_type": "error",
          "ename": "ValueError",
          "evalue": "invalid literal for int() with base 10: '5.5'",
          "traceback": [
            "\u001b[0;31m---------------------------------------------------------------------------\u001b[0m",
            "\u001b[0;31mValueError\u001b[0m                                Traceback (most recent call last)",
            "\u001b[0;32m<ipython-input-78-66621aca2009>\u001b[0m in \u001b[0;36m<module>\u001b[0;34m()\u001b[0m\n\u001b[0;32m----> 1\u001b[0;31m \u001b[0mint\u001b[0m\u001b[1;33m(\u001b[0m\u001b[1;34m'5.5'\u001b[0m\u001b[1;33m)\u001b[0m\u001b[1;33m\u001b[0m\u001b[0m\n\u001b[0m",
            "\u001b[0;31mValueError\u001b[0m: invalid literal for int() with base 10: '5.5'"
          ]
        }
      ]
    },
    {
      "cell_type": "code",
      "metadata": {
        "id": "1E4-DLDHZfCI",
        "colab_type": "code",
        "outputId": "dc5ceb34-69fa-43f8-ece5-3eece4e60aca",
        "colab": {}
      },
      "source": [
        "float('5.5')"
      ],
      "execution_count": 0,
      "outputs": [
        {
          "output_type": "execute_result",
          "data": {
            "text/plain": [
              "5.5"
            ]
          },
          "metadata": {
            "tags": []
          },
          "execution_count": 80
        }
      ]
    },
    {
      "cell_type": "code",
      "metadata": {
        "id": "fJzq_frDZfCL",
        "colab_type": "code",
        "outputId": "58058829-71ca-4e1a-efa5-73acbc0aac9d",
        "colab": {}
      },
      "source": [
        "float('5')"
      ],
      "execution_count": 0,
      "outputs": [
        {
          "output_type": "execute_result",
          "data": {
            "text/plain": [
              "5.0"
            ]
          },
          "metadata": {
            "tags": []
          },
          "execution_count": 81
        }
      ]
    },
    {
      "cell_type": "code",
      "metadata": {
        "id": "63b7i1myZfCT",
        "colab_type": "code",
        "outputId": "2b32e3bc-b93b-48ba-de29-e8ec195b146f",
        "colab": {}
      },
      "source": [
        "int('CharIn10')"
      ],
      "execution_count": 0,
      "outputs": [
        {
          "output_type": "error",
          "ename": "ValueError",
          "evalue": "invalid literal for int() with base 10: 'CharIn10'",
          "traceback": [
            "\u001b[0;31m---------------------------------------------------------------------------\u001b[0m",
            "\u001b[0;31mValueError\u001b[0m                                Traceback (most recent call last)",
            "\u001b[0;32m<ipython-input-84-e8f820565321>\u001b[0m in \u001b[0;36m<module>\u001b[0;34m()\u001b[0m\n\u001b[0;32m----> 1\u001b[0;31m \u001b[0mint\u001b[0m\u001b[1;33m(\u001b[0m\u001b[1;34m'CharIn10'\u001b[0m\u001b[1;33m)\u001b[0m\u001b[1;33m\u001b[0m\u001b[0m\n\u001b[0m",
            "\u001b[0;31mValueError\u001b[0m: invalid literal for int() with base 10: 'CharIn10'"
          ]
        }
      ]
    },
    {
      "cell_type": "code",
      "metadata": {
        "id": "JDYLB2awZfCX",
        "colab_type": "code",
        "outputId": "561d2fbf-7b47-496e-9b67-9d11001ad781",
        "colab": {}
      },
      "source": [
        "myNewString = 'text1 '+ 20 + ' text2'"
      ],
      "execution_count": 0,
      "outputs": [
        {
          "output_type": "error",
          "ename": "TypeError",
          "evalue": "must be str, not int",
          "traceback": [
            "\u001b[0;31m---------------------------------------------------------------------------\u001b[0m",
            "\u001b[0;31mTypeError\u001b[0m                                 Traceback (most recent call last)",
            "\u001b[0;32m<ipython-input-89-a34dc682c656>\u001b[0m in \u001b[0;36m<module>\u001b[0;34m()\u001b[0m\n\u001b[0;32m----> 1\u001b[0;31m \u001b[0mmyNewString\u001b[0m \u001b[1;33m=\u001b[0m \u001b[1;34m'text1 '\u001b[0m\u001b[1;33m+\u001b[0m \u001b[1;36m20\u001b[0m \u001b[1;33m+\u001b[0m \u001b[1;34m' text2'\u001b[0m\u001b[1;33m\u001b[0m\u001b[0m\n\u001b[0m",
            "\u001b[0;31mTypeError\u001b[0m: must be str, not int"
          ]
        }
      ]
    },
    {
      "cell_type": "code",
      "metadata": {
        "id": "W6kmBJT8ZfCa",
        "colab_type": "code",
        "outputId": "7eada85a-150b-4005-f6c1-c1ee3e911417",
        "colab": {}
      },
      "source": [
        "myNewString = 'text1 '+ str(20) + ' text2'\n",
        "print(myNewString)"
      ],
      "execution_count": 0,
      "outputs": [
        {
          "output_type": "stream",
          "text": [
            "text1 20 text2\n"
          ],
          "name": "stdout"
        }
      ]
    },
    {
      "cell_type": "markdown",
      "metadata": {
        "id": "PLNPFgWNZfCe",
        "colab_type": "text"
      },
      "source": [
        "Convert,<br/>\n",
        "1> list to set<br/>\n",
        "2> String to list"
      ]
    },
    {
      "cell_type": "code",
      "metadata": {
        "id": "xWFuZOvJZfCf",
        "colab_type": "code",
        "outputId": "2e541f8a-1c17-44fe-85a6-cbd43ad34da6",
        "colab": {}
      },
      "source": [
        "# 1> list to set\n",
        "myList1 = ['a','b','c','c']\n",
        "print(myList1)\n",
        "print(type(myList1))\n",
        "mySet1 = set(myList1)\n",
        "print(type(mySet1))\n",
        "print(mySet1)"
      ],
      "execution_count": 0,
      "outputs": [
        {
          "output_type": "stream",
          "text": [
            "['a', 'b', 'c', 'c']\n",
            "<class 'list'>\n",
            "<class 'set'>\n",
            "{'c', 'b', 'a'}\n"
          ],
          "name": "stdout"
        }
      ]
    },
    {
      "cell_type": "code",
      "metadata": {
        "id": "sBCa9dFbZfCi",
        "colab_type": "code",
        "outputId": "8da5bd0b-1647-4219-e97b-cafaf11d4332",
        "colab": {}
      },
      "source": [
        "# 2> String to list\n",
        "myString1 = 'This is string to list'\n",
        "print(type(myString1))\n",
        "\n",
        "strToList = list(myString1)\n",
        "print(type(strToList))\n",
        "print(strToList)"
      ],
      "execution_count": 0,
      "outputs": [
        {
          "output_type": "stream",
          "text": [
            "<class 'str'>\n",
            "<class 'list'>\n",
            "['T', 'h', 'i', 's', ' ', 'i', 's', ' ', 's', 't', 'r', 'i', 'n', 'g', ' ', 't', 'o', ' ', 'l', 'i', 's', 't']\n"
          ],
          "name": "stdout"
        }
      ]
    }
  ]
}